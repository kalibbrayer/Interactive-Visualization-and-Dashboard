{
 "cells": [
  {
   "cell_type": "code",
   "execution_count": 2,
   "metadata": {
    "collapsed": true
   },
   "outputs": [],
   "source": [
    "import pandas as pd\n",
    "from flask import Flask, render_template, jsonify "
   ]
  },
  {
   "cell_type": "code",
   "execution_count": 3,
   "metadata": {
    "collapsed": true
   },
   "outputs": [],
   "source": [
    "app = Flask(__name__)"
   ]
  },
  {
   "cell_type": "code",
   "execution_count": 33,
   "metadata": {},
   "outputs": [],
   "source": [
    "names_df = pd.read_csv(\"belly_button_biodiversity_samples.csv\")"
   ]
  },
  {
   "cell_type": "code",
   "execution_count": 64,
   "metadata": {},
   "outputs": [],
   "source": [
    "otu_samp = names_df[\"BB_974\"].sort_values(ascending = False).reset_index().to_dict(\"list\")"
   ]
  },
  {
   "cell_type": "code",
   "execution_count": 6,
   "metadata": {
    "collapsed": true
   },
   "outputs": [],
   "source": [
    "sample_names = list(names_df)[1:]"
   ]
  },
  {
   "cell_type": "code",
   "execution_count": 31,
   "metadata": {},
   "outputs": [],
   "source": [
    "otu_list = pd.read_csv(\"belly_button_biodiversity_otu_id.csv\")"
   ]
  },
  {
   "cell_type": "code",
   "execution_count": 8,
   "metadata": {
    "collapsed": true
   },
   "outputs": [],
   "source": [
    "otus = otu_list['lowest_taxonomic_unit_found'].tolist()"
   ]
  },
  {
   "cell_type": "code",
   "execution_count": 24,
   "metadata": {},
   "outputs": [],
   "source": [
    "metadata = pd.read_csv(\"Belly_Button_Biodiversity_Metadata.csv\")"
   ]
  },
  {
   "cell_type": "code",
   "execution_count": null,
   "metadata": {
    "collapsed": true
   },
   "outputs": [],
   "source": [
    "@app.route('/names')\n",
    "def names():  \n",
    "    return jsonify(sample_names) \n",
    "\n",
    "@app.route(\"/\")\n",
    "def index(): \n",
    "    return render_template(\"index.html\")\n",
    "\n",
    "@app.route('/otu')\n",
    "def otu(): \n",
    "    return jsonify(otus)\n",
    "\n",
    "@app.route('/metadata/<sample>')\n",
    "def metadata(sample): \n",
    "    metadata = pd.read_csv(\"Belly_Button_Biodiversity_Metadata.csv\")\n",
    "    metadata = metadata[[\"AGE\", \"BBTYPE\", \"ETHNICITY\", \"GENDER\", \"LOCATION\", \"SAMPLEID\"]]\n",
    "    sample_id = sample[3:]\n",
    "    record = metadata[metadata[\"SAMPLEID\"] == int(sample_id)].to_dict(\"records\")\n",
    "    return jsonify(record)\n",
    "\n",
    "@app.route('/wfreq/<sample>')\n",
    "def wfreq(sample): \n",
    "    metadata = pd.read_csv(\"Belly_Button_Biodiversity_Metadata.csv\")\n",
    "    sample_id = sample[3:]\n",
    "    wfreq = metadata[metadata[\"SAMPLEID\"] == int(sample_id)].WFREQ.values[0]\n",
    "    return jsonify(wfreq) \n",
    "\n",
    "@app.route('/samples/<sample>')\n",
    "def samples(sample): \n",
    "    names_df = pd.read_csv(\"belly_button_biodiversity_samples.csv\")\n",
    "    otu_samp = names_df[sample].sort_values(ascending = False).reset_index().to_dict(\"list\")\n",
    "    otu_ids = otu_samp[\"index\"]\n",
    "    sample_values = otu_samp[sample] \n",
    "    return jsonify({\"otu_ids\": otu_ids, \"sample_values\": sample_values})\n",
    "\n",
    "\n",
    "if __name__ == '__main__':\n",
    "    app.run(host=\"127.0.0.1\", port=9999, debug=True)"
   ]
  }
 ],
 "metadata": {
  "kernelspec": {
   "display_name": "Python 3",
   "language": "python",
   "name": "python3"
  },
  "language_info": {
   "codemirror_mode": {
    "name": "ipython",
    "version": 3
   },
   "file_extension": ".py",
   "mimetype": "text/x-python",
   "name": "python",
   "nbconvert_exporter": "python",
   "pygments_lexer": "ipython3",
   "version": "3.6.1"
  }
 },
 "nbformat": 4,
 "nbformat_minor": 2
}
